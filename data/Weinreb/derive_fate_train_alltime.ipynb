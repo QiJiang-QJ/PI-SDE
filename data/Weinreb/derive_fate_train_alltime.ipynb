{
 "cells": [
  {
   "cell_type": "code",
   "execution_count": 1,
   "metadata": {},
   "outputs": [],
   "source": [
    "import numpy as np\n",
    "import sklearn.preprocessing, sklearn.decomposition\n",
    "import pandas as pd\n",
    "import torch\n",
    "import umap\n",
    "import matplotlib.pyplot as plt\n",
    "import seaborn as sns\n",
    "import spring_helper as sh"
   ]
  },
  {
   "cell_type": "code",
   "execution_count": 2,
   "metadata": {},
   "outputs": [],
   "source": [
    "expr = sh.load_mtx(\"original_data/normed_counts.mtx\")\n",
    "genes = sh.load_genes(\"original_data/gene_names.txt\")"
   ]
  },
  {
   "cell_type": "code",
   "execution_count": 3,
   "metadata": {},
   "outputs": [
    {
     "data": {
      "text/plain": [
       "(130887, 25289)"
      ]
     },
     "execution_count": 3,
     "metadata": {},
     "output_type": "execute_result"
    }
   ],
   "source": [
    "expr.shape"
   ]
  },
  {
   "cell_type": "code",
   "execution_count": null,
   "metadata": {},
   "outputs": [],
   "source": []
  },
  {
   "cell_type": "code",
   "execution_count": 2,
   "metadata": {},
   "outputs": [],
   "source": [
    "expr = sh.load_mtx(\"original_data/normed_counts.mtx\")\n",
    "genes = sh.load_genes(\"original_data/gene_names.txt\")\n",
    "highly_variable_genes = sh.filter_genes(expr)\n",
    "cell_cycle_genes = [['Ube2c',\n",
    "                    'Hmgb2',\n",
    "                    'Hmgn2',\n",
    "                    'Tuba1b', \n",
    "                    'Ccnb1', \n",
    "                    'Tubb5', \n",
    "                    'Top2a', \n",
    "                    'Tubb4b']]\n",
    "non_cell_cycle_idx = sh.remove_corr_genes(expr, gene_list=genes, exclude_corr_genes_list=cell_cycle_genes, test_gene_idx=highly_variable_genes, min_corr=0.1)\n",
    "non_cell_cycle_idx = non_cell_cycle_idx[0:2447]\n",
    "# perform filtering\n",
    "expr = expr[:, non_cell_cycle_idx]\n",
    "\n",
    "use_genes = [genes[i] for i in non_cell_cycle_idx]\n",
    "\n"
   ]
  },
  {
   "cell_type": "code",
   "execution_count": 13,
   "metadata": {},
   "outputs": [
    {
     "data": {
      "text/html": [
       "<div>\n",
       "<style scoped>\n",
       "    .dataframe tbody tr th:only-of-type {\n",
       "        vertical-align: middle;\n",
       "    }\n",
       "\n",
       "    .dataframe tbody tr th {\n",
       "        vertical-align: top;\n",
       "    }\n",
       "\n",
       "    .dataframe thead th {\n",
       "        text-align: right;\n",
       "    }\n",
       "</style>\n",
       "<table border=\"1\" class=\"dataframe\">\n",
       "  <thead>\n",
       "    <tr style=\"text-align: right;\">\n",
       "      <th></th>\n",
       "      <th>Library</th>\n",
       "      <th>Cell barcode</th>\n",
       "      <th>Time point</th>\n",
       "      <th>Starting population</th>\n",
       "      <th>Cell type annotation</th>\n",
       "      <th>Well</th>\n",
       "      <th>SPRING-x</th>\n",
       "      <th>SPRING-y</th>\n",
       "    </tr>\n",
       "  </thead>\n",
       "  <tbody>\n",
       "    <tr>\n",
       "      <th>0</th>\n",
       "      <td>d6_2_2</td>\n",
       "      <td>GCGTGCAA-AGAAGTTA</td>\n",
       "      <td>6.0</td>\n",
       "      <td>Lin-Kit+Sca1-</td>\n",
       "      <td>Undifferentiated</td>\n",
       "      <td>2</td>\n",
       "      <td>411.496</td>\n",
       "      <td>-96.190</td>\n",
       "    </tr>\n",
       "    <tr>\n",
       "      <th>1</th>\n",
       "      <td>d6_2_2</td>\n",
       "      <td>AAGGGACC-CTCGATGC</td>\n",
       "      <td>6.0</td>\n",
       "      <td>Lin-Kit+Sca1-</td>\n",
       "      <td>Undifferentiated</td>\n",
       "      <td>2</td>\n",
       "      <td>-587.462</td>\n",
       "      <td>-306.925</td>\n",
       "    </tr>\n",
       "    <tr>\n",
       "      <th>2</th>\n",
       "      <td>d6_2_2</td>\n",
       "      <td>CGTACCGA-AGCGCCTT</td>\n",
       "      <td>6.0</td>\n",
       "      <td>Lin-Kit+Sca1-</td>\n",
       "      <td>Monocyte</td>\n",
       "      <td>2</td>\n",
       "      <td>1429.805</td>\n",
       "      <td>-429.300</td>\n",
       "    </tr>\n",
       "    <tr>\n",
       "      <th>3</th>\n",
       "      <td>d6_2_2</td>\n",
       "      <td>CTGAAGGG-AGGAGCTT</td>\n",
       "      <td>6.0</td>\n",
       "      <td>Lin-Kit+Sca1-</td>\n",
       "      <td>Neutrophil</td>\n",
       "      <td>2</td>\n",
       "      <td>1150.028</td>\n",
       "      <td>-2030.369</td>\n",
       "    </tr>\n",
       "    <tr>\n",
       "      <th>4</th>\n",
       "      <td>d6_2_2</td>\n",
       "      <td>CCGTAGCT-AGGCAGTT</td>\n",
       "      <td>6.0</td>\n",
       "      <td>Lin-Kit+Sca1-</td>\n",
       "      <td>Undifferentiated</td>\n",
       "      <td>2</td>\n",
       "      <td>-1169.594</td>\n",
       "      <td>362.010</td>\n",
       "    </tr>\n",
       "  </tbody>\n",
       "</table>\n",
       "</div>"
      ],
      "text/plain": [
       "  Library       Cell barcode  Time point Starting population  \\\n",
       "0  d6_2_2  GCGTGCAA-AGAAGTTA         6.0       Lin-Kit+Sca1-   \n",
       "1  d6_2_2  AAGGGACC-CTCGATGC         6.0       Lin-Kit+Sca1-   \n",
       "2  d6_2_2  CGTACCGA-AGCGCCTT         6.0       Lin-Kit+Sca1-   \n",
       "3  d6_2_2  CTGAAGGG-AGGAGCTT         6.0       Lin-Kit+Sca1-   \n",
       "4  d6_2_2  CCGTAGCT-AGGCAGTT         6.0       Lin-Kit+Sca1-   \n",
       "\n",
       "  Cell type annotation  Well  SPRING-x  SPRING-y  \n",
       "0     Undifferentiated     2   411.496   -96.190  \n",
       "1     Undifferentiated     2  -587.462  -306.925  \n",
       "2             Monocyte     2  1429.805  -429.300  \n",
       "3           Neutrophil     2  1150.028 -2030.369  \n",
       "4     Undifferentiated     2 -1169.594   362.010  "
      ]
     },
     "execution_count": 13,
     "metadata": {},
     "output_type": "execute_result"
    }
   ],
   "source": [
    "meta = pd.read_csv(\"original_data/metadata.csv\", sep = \",\")\n",
    "# meta = meta.drop(meta.columns[0], axis = 1)\n",
    "meta.head()"
   ]
  },
  {
   "cell_type": "code",
   "execution_count": null,
   "metadata": {},
   "outputs": [],
   "source": []
  },
  {
   "cell_type": "code",
   "execution_count": 14,
   "metadata": {},
   "outputs": [],
   "source": [
    "x = expr.todense()\n",
    "y = meta['Time point'].values.astype(int)"
   ]
  },
  {
   "cell_type": "code",
   "execution_count": 15,
   "metadata": {},
   "outputs": [],
   "source": [
    "scaler = sklearn.preprocessing.StandardScaler()\n",
    "pca = sklearn.decomposition.PCA(n_components = 50, random_state=0)\n",
    "um = umap.UMAP(n_components = 2, metric = 'euclidean', n_neighbors = 30, random_state=42,transform_seed=42)\n"
   ]
  },
  {
   "cell_type": "code",
   "execution_count": 16,
   "metadata": {},
   "outputs": [],
   "source": [
    "x = scaler.fit_transform(x)\n",
    "xp = pca.fit_transform(x)\n",
    "xu = um.fit_transform(xp) "
   ]
  },
  {
   "cell_type": "code",
   "execution_count": 17,
   "metadata": {},
   "outputs": [],
   "source": [
    "x_l = [x.loc[y == d,].values for d in [2,4,6]]\n",
    "xp_l = [xp.loc[y == d,].values for d in [2,4,6]]\n",
    "xu_l = [xu[y == d,] for d in [2,4,6]]\n",
    "\n",
    "x_l = [torch.from_numpy(a).float() for a in x_l]\n",
    "xp_l = [torch.from_numpy(a).float() for a in xp_l]\n",
    "xu_l = [torch.from_numpy(a).float() for a in xu_l]\n",
    "\n",
    "celltype_ = [meta['Cell type annotation'][(y == 2)],\n",
    "             meta['Cell type annotation'][(y == 4)],\n",
    "             meta['Cell type annotation'][(y == 6)]]\n",
    "\n",
    "genes = use_genes"
   ]
  },
  {
   "cell_type": "code",
   "execution_count": null,
   "metadata": {},
   "outputs": [],
   "source": [
    "unique_cell_types = meta['Cell type annotation'].unique()\n",
    "default_colors = sns.color_palette(\"husl\", len(unique_cell_types))\n",
    "color_palette_dict = {cell_type: color for cell_type, color in zip(unique_cell_types, default_colors)}"
   ]
  },
  {
   "cell_type": "code",
   "execution_count": null,
   "metadata": {},
   "outputs": [],
   "source": [
    "torch.save({\n",
    "    'x': x_l, \n",
    "    'xp': xp_l, \n",
    "    'xu': xu_l, \n",
    "    'y': [2,4,6],\n",
    "    'celltype': celltype_,\n",
    "    'genes':genes,\n",
    "    'Types':unique_cell_types,\n",
    "    'colors':color_palette_dict\n",
    "}, 'alltime/fate_train.pt')"
   ]
  },
  {
   "cell_type": "code",
   "execution_count": null,
   "metadata": {},
   "outputs": [],
   "source": []
  },
  {
   "cell_type": "code",
   "execution_count": null,
   "metadata": {},
   "outputs": [],
   "source": []
  },
  {
   "cell_type": "code",
   "execution_count": null,
   "metadata": {},
   "outputs": [],
   "source": []
  },
  {
   "cell_type": "code",
   "execution_count": null,
   "metadata": {},
   "outputs": [],
   "source": []
  },
  {
   "cell_type": "code",
   "execution_count": null,
   "metadata": {},
   "outputs": [],
   "source": []
  },
  {
   "cell_type": "code",
   "execution_count": 28,
   "metadata": {},
   "outputs": [
    {
     "data": {
      "text/html": [
       "<div>\n",
       "<style scoped>\n",
       "    .dataframe tbody tr th:only-of-type {\n",
       "        vertical-align: middle;\n",
       "    }\n",
       "\n",
       "    .dataframe tbody tr th {\n",
       "        vertical-align: top;\n",
       "    }\n",
       "\n",
       "    .dataframe thead th {\n",
       "        text-align: right;\n",
       "    }\n",
       "</style>\n",
       "<table border=\"1\" class=\"dataframe\">\n",
       "  <thead>\n",
       "    <tr style=\"text-align: right;\">\n",
       "      <th></th>\n",
       "      <th>Library</th>\n",
       "      <th>Cell barcode</th>\n",
       "      <th>Time point</th>\n",
       "      <th>Starting population</th>\n",
       "      <th>Cell type annotation</th>\n",
       "      <th>Well</th>\n",
       "      <th>SPRING-x</th>\n",
       "      <th>SPRING-y</th>\n",
       "      <th>clone</th>\n",
       "    </tr>\n",
       "  </thead>\n",
       "  <tbody>\n",
       "    <tr>\n",
       "      <th>0</th>\n",
       "      <td>d6_2_2</td>\n",
       "      <td>GCGTGCAA-AGAAGTTA</td>\n",
       "      <td>6.0</td>\n",
       "      <td>Lin-Kit+Sca1-</td>\n",
       "      <td>Undifferentiated</td>\n",
       "      <td>2</td>\n",
       "      <td>411.496</td>\n",
       "      <td>-96.190</td>\n",
       "      <td>573</td>\n",
       "    </tr>\n",
       "    <tr>\n",
       "      <th>1</th>\n",
       "      <td>d6_2_2</td>\n",
       "      <td>AAGGGACC-CTCGATGC</td>\n",
       "      <td>6.0</td>\n",
       "      <td>Lin-Kit+Sca1-</td>\n",
       "      <td>Undifferentiated</td>\n",
       "      <td>2</td>\n",
       "      <td>-587.462</td>\n",
       "      <td>-306.925</td>\n",
       "      <td>1440</td>\n",
       "    </tr>\n",
       "    <tr>\n",
       "      <th>2</th>\n",
       "      <td>d6_2_2</td>\n",
       "      <td>CGTACCGA-AGCGCCTT</td>\n",
       "      <td>6.0</td>\n",
       "      <td>Lin-Kit+Sca1-</td>\n",
       "      <td>Monocyte</td>\n",
       "      <td>2</td>\n",
       "      <td>1429.805</td>\n",
       "      <td>-429.300</td>\n",
       "      <td>394</td>\n",
       "    </tr>\n",
       "    <tr>\n",
       "      <th>3</th>\n",
       "      <td>d6_2_2</td>\n",
       "      <td>CTGAAGGG-AGGAGCTT</td>\n",
       "      <td>6.0</td>\n",
       "      <td>Lin-Kit+Sca1-</td>\n",
       "      <td>Neutrophil</td>\n",
       "      <td>2</td>\n",
       "      <td>1150.028</td>\n",
       "      <td>-2030.369</td>\n",
       "      <td>-1</td>\n",
       "    </tr>\n",
       "    <tr>\n",
       "      <th>4</th>\n",
       "      <td>d6_2_2</td>\n",
       "      <td>CCGTAGCT-AGGCAGTT</td>\n",
       "      <td>6.0</td>\n",
       "      <td>Lin-Kit+Sca1-</td>\n",
       "      <td>Undifferentiated</td>\n",
       "      <td>2</td>\n",
       "      <td>-1169.594</td>\n",
       "      <td>362.010</td>\n",
       "      <td>1972</td>\n",
       "    </tr>\n",
       "  </tbody>\n",
       "</table>\n",
       "</div>"
      ],
      "text/plain": [
       "  Library       Cell barcode  Time point Starting population  \\\n",
       "0  d6_2_2  GCGTGCAA-AGAAGTTA         6.0       Lin-Kit+Sca1-   \n",
       "1  d6_2_2  AAGGGACC-CTCGATGC         6.0       Lin-Kit+Sca1-   \n",
       "2  d6_2_2  CGTACCGA-AGCGCCTT         6.0       Lin-Kit+Sca1-   \n",
       "3  d6_2_2  CTGAAGGG-AGGAGCTT         6.0       Lin-Kit+Sca1-   \n",
       "4  d6_2_2  CCGTAGCT-AGGCAGTT         6.0       Lin-Kit+Sca1-   \n",
       "\n",
       "  Cell type annotation  Well  SPRING-x  SPRING-y  clone  \n",
       "0     Undifferentiated     2   411.496   -96.190    573  \n",
       "1     Undifferentiated     2  -587.462  -306.925   1440  \n",
       "2             Monocyte     2  1429.805  -429.300    394  \n",
       "3           Neutrophil     2  1150.028 -2030.369     -1  \n",
       "4     Undifferentiated     2 -1169.594   362.010   1972  "
      ]
     },
     "execution_count": 28,
     "metadata": {},
     "output_type": "execute_result"
    }
   ],
   "source": [
    "clone = sh.load_mtx(\"original_data/clone_matrix.mtx\")\n",
    "meta_ = meta.copy()\n",
    "meta_['clone'] = np.asarray(np.argmax(clone, axis = 1))[:,0]\n",
    "meta_.loc[np.asarray(clone.sum(axis = 1) == 0)[:,0], 'clone'] = -1\n",
    "\n",
    "meta_.head()"
   ]
  },
  {
   "cell_type": "code",
   "execution_count": 29,
   "metadata": {},
   "outputs": [],
   "source": [
    "d2_meta = meta_.loc[meta_['Time point'] == 2]\n",
    "d2_mask = (d2_meta['clone'] > -1).values\n",
    "\n",
    "d4_meta = meta_.loc[meta_['Time point'] == 4]\n",
    "d4_mask = (d4_meta['clone'] > -1).values\n",
    "\n",
    "d6_meta = meta_.loc[meta_['Time point'] == 6] \n",
    "d6_mask = (d6_meta['clone'] > -1).values"
   ]
  },
  {
   "cell_type": "code",
   "execution_count": 43,
   "metadata": {},
   "outputs": [],
   "source": [
    "x_l = [x[y == 2,][d2_mask],\n",
    "       x[y == 4,][d4_mask],\n",
    "       x[y == 6,][d6_mask]]\n",
    "xp_l = [xp[y == 2,][d2_mask],\n",
    "        xp[y == 4,][d4_mask],\n",
    "        xp[y == 6,][d6_mask]]\n",
    "xu_l = [xu[y == 2,][d2_mask],\n",
    "        xu[y == 4,][d4_mask],\n",
    "        xu[y == 6,][d6_mask]]\n",
    "\n",
    "x_l = [torch.from_numpy(a).float() for a in x_l]\n",
    "xp_l = [torch.from_numpy(a).float() for a in xp_l]\n",
    "xu_l = [torch.from_numpy(a).float() for a in xu_l]\n",
    "\n",
    "celltype_ = [meta['Cell type annotation'][(y == 2)][d2_mask],\n",
    "             meta['Cell type annotation'][(y == 4)][d4_mask],\n",
    "             meta['Cell type annotation'][(y == 6)][d6_mask]]"
   ]
  },
  {
   "cell_type": "code",
   "execution_count": null,
   "metadata": {},
   "outputs": [],
   "source": [
    "torch.save({\n",
    "    'x': x_l, \n",
    "    'xp': xp_l, \n",
    "    'xu': xu_l, \n",
    "    'y': [2,4,6],\n",
    "    'celltype': celltype_,\n",
    "    'genes':genes,\n",
    "    'Types':unique_cell_types,\n",
    "    'colors':color_palette_dict\n",
    "}, 'alltime_onlyLineage/fate_train.pt')"
   ]
  },
  {
   "cell_type": "code",
   "execution_count": null,
   "metadata": {},
   "outputs": [],
   "source": []
  },
  {
   "cell_type": "code",
   "execution_count": null,
   "metadata": {},
   "outputs": [],
   "source": []
  },
  {
   "cell_type": "code",
   "execution_count": 11,
   "metadata": {},
   "outputs": [
    {
     "data": {
      "text/plain": [
       "['alltime/phate_operator.joblib']"
      ]
     },
     "execution_count": 11,
     "metadata": {},
     "output_type": "execute_result"
    }
   ],
   "source": [
    "from joblib import dump\n",
    "dump(um, 'alltime/um_operator.joblib')\n",
    "dump(um, 'alltime_onlyLineage/um_operator.joblib')"
   ]
  },
  {
   "cell_type": "code",
   "execution_count": null,
   "metadata": {},
   "outputs": [],
   "source": []
  },
  {
   "cell_type": "code",
   "execution_count": null,
   "metadata": {},
   "outputs": [],
   "source": []
  }
 ],
 "metadata": {
  "kernelspec": {
   "display_name": "jq",
   "language": "python",
   "name": "python3"
  },
  "language_info": {
   "codemirror_mode": {
    "name": "ipython",
    "version": 3
   },
   "file_extension": ".py",
   "mimetype": "text/x-python",
   "name": "python",
   "nbconvert_exporter": "python",
   "pygments_lexer": "ipython3",
   "version": "3.7.16"
  }
 },
 "nbformat": 4,
 "nbformat_minor": 2
}
